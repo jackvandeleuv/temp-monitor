{
 "cells": [
  {
   "cell_type": "code",
   "execution_count": 1,
   "id": "2c5b447e",
   "metadata": {},
   "outputs": [],
   "source": [
    "import pandas as pd\n",
    "import json\n",
    "\n",
    "data = []\n",
    "with open('../temp_data_local.jsonl', 'r') as file:\n",
    "    for line in file:\n",
    "        data.append(json.loads(line))\n",
    "\n",
    "df = pd.DataFrame(data)\n",
    "\n",
    "df['datetime_utc'] = pd.to_datetime(df['timestamp'], unit='s', utc=True)\n",
    "df['datetime_et'] = df['datetime_utc'].dt.tz_convert('US/Eastern')\n",
    "df['date_et'] = df['datetime_et'].apply(lambda x: x.date())\n",
    "\n",
    "df['year'] = df.datetime_et.dt.year\n",
    "df['month'] = df.datetime_et.dt.month\n",
    "df['day'] = df.datetime_et.dt.day\n",
    "df['hour'] = df.datetime_et.dt.hour\n",
    "df['hourly_time'] = df.apply(\n",
    "    lambda row: f\"{row.year}-{row.month}-{row.day}-{row.hour}\"\n",
    "    if row.hour >= 10\n",
    "    else f\"{row.year}-{row.month}-{row.day}-0{row.hour}\"\n",
    "    , axis=1\n",
    ")\n",
    "\n",
    "df['temp_f'] = df.temperature.apply(lambda x: x * 9/5 + 32)\n",
    "\n",
    "df.to_csv('temp_data.csv', index=False)"
   ]
  }
 ],
 "metadata": {
  "kernelspec": {
   "display_name": "base",
   "language": "python",
   "name": "python3"
  },
  "language_info": {
   "codemirror_mode": {
    "name": "ipython",
    "version": 3
   },
   "file_extension": ".py",
   "mimetype": "text/x-python",
   "name": "python",
   "nbconvert_exporter": "python",
   "pygments_lexer": "ipython3",
   "version": "3.12.4"
  }
 },
 "nbformat": 4,
 "nbformat_minor": 5
}
