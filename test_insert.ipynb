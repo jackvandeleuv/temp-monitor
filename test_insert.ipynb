{
 "cells": [
  {
   "cell_type": "code",
   "execution_count": null,
   "id": "8b7fe1f6",
   "metadata": {},
   "outputs": [
    {
     "name": "stdout",
     "output_type": "stream",
     "text": [
      "Inserted 630423\n"
     ]
    }
   ],
   "source": [
    "import os\n",
    "import requests\n",
    "from dotenv import load_dotenv\n",
    "import json \n",
    "\n",
    "load_dotenv()\n",
    "\n",
    "SECRET_KEY = os.environ[\"SUPABASE_SERVICE_ROLE_KEY\"]\n",
    "SUPABASE_URI = os.environ[\"SUPABASE_URI\"]\n",
    "\n",
    "HEADERS = {\n",
    "    \"apikey\": SECRET_KEY,\n",
    "    \"Authorization\": f\"Bearer {SECRET_KEY}\",\n",
    "    \"Content-Type\": \"application/json\",\n",
    "    \"Prefer\": \"return=minimal\",\n",
    "}\n",
    "\n",
    "def insert_batch(rows):\n",
    "    if len(rows) == 0:\n",
    "        return []\n",
    "    r = requests.post(SUPABASE_URI, json=rows, headers=HEADERS)\n",
    "    r.raise_for_status() \n",
    "    return []\n",
    "\n",
    "rows = []\n",
    "with open('temp_data_local.jsonl', 'rt') as file:\n",
    "    for i, line in enumerate(file):\n",
    "        if i % 10000 == 0:\n",
    "            rows = insert_batch(rows)\n",
    "        rows.append(json.loads(line))\n",
    "rows = insert_batch(rows)\n",
    "\n",
    "print(f\"Inserted {i}\")"
   ]
  }
 ],
 "metadata": {
  "kernelspec": {
   "display_name": "base",
   "language": "python",
   "name": "python3"
  },
  "language_info": {
   "codemirror_mode": {
    "name": "ipython",
    "version": 3
   },
   "file_extension": ".py",
   "mimetype": "text/x-python",
   "name": "python",
   "nbconvert_exporter": "python",
   "pygments_lexer": "ipython3",
   "version": "3.12.4"
  }
 },
 "nbformat": 4,
 "nbformat_minor": 5
}
